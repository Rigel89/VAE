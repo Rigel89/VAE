{
 "cells": [
  {
   "cell_type": "markdown",
   "metadata": {
    "tags": []
   },
   "source": [
    "# **VISUALIZING THE RESULTS OF THE VAE AND CVAE NN**"
   ]
  },
  {
   "cell_type": "markdown",
   "metadata": {},
   "source": [
    "## 1. Importing libraries"
   ]
  },
  {
   "cell_type": "code",
   "execution_count": 3,
   "metadata": {},
   "outputs": [],
   "source": [
    "# Numeric libraries\n",
    "import tensorflow as tf\n",
    "import numpy as np\n",
    "# Data ETL\n",
    "import matplotlib.pyplot as plt\n",
    "# System libraries\n",
    "import os\n",
    "# VAE Modules\n",
    "from VAE.autoencoder import *\n",
    "from VAE.config import *\n",
    "from VAE.preprocessing_tools import *\n",
    "from VAE.postprocessing_tools import *"
   ]
  },
  {
   "cell_type": "markdown",
   "metadata": {},
   "source": [
    "## 2. Importing dataset **MNIST**"
   ]
  },
  {
   "cell_type": "code",
   "execution_count": null,
   "metadata": {},
   "outputs": [],
   "source": [
    "(x_train, y_train), (x_test, y_test) = tf.keras.datasets.mnist.load_data()\n",
    "assert x_train.shape == (60000, 28, 28)\n",
    "assert x_test.shape == (10000, 28, 28)\n",
    "assert y_train.shape == (60000,)\n",
    "assert y_test.shape == (10000,)\n",
    "\n",
    "train = tf.data.Dataset.from_tensor_slices((x_train,y_train))\n",
    "test = tf.data.Dataset.from_tensor_slices((x_test,y_test))\n",
    "\n",
    "train = train.map(lambda x, y: (exp_dims(img_norm(x)), translate_to_hot_encoding(y, one_hot_names)),\n",
    "                    num_parallel_calls=tf.data.AUTOTUNE)\n",
    "\n",
    "test = test.map(lambda x, y: (exp_dims(img_norm(x)), translate_to_hot_encoding(y, one_hot_names)),\n",
    "                num_parallel_calls=tf.data.AUTOTUNE)"
   ]
  }
 ],
 "metadata": {
  "kernelspec": {
   "display_name": "IG",
   "language": "python",
   "name": "ig"
  },
  "language_info": {
   "codemirror_mode": {
    "name": "ipython",
    "version": 3
   },
   "file_extension": ".py",
   "mimetype": "text/x-python",
   "name": "python",
   "nbconvert_exporter": "python",
   "pygments_lexer": "ipython3",
   "version": "3.10.9"
  }
 },
 "nbformat": 4,
 "nbformat_minor": 2
}
